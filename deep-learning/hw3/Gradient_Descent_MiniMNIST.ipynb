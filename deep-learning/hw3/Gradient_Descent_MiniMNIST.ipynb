{
 "cells": [
  {
   "cell_type": "code",
   "execution_count": 287,
   "metadata": {},
   "outputs": [],
   "source": [
    "import numpy as np\n",
    "from sklearn.model_selection import train_test_split\n",
    "from scipy.io import loadmat\n",
    "import torch\n",
    "from torch import nn\n"
   ]
  },
  {
   "cell_type": "code",
   "execution_count": 288,
   "metadata": {},
   "outputs": [],
   "source": [
    "#Load Mini MNIST from the MATLAB data file - Observe how we load the files\n",
    "\n",
    "mnist = loadmat('mnist_49_3000.mat')\n",
    "X = mnist['x']\n",
    "y = mnist['y'][0]\n",
    "\n",
    "'''\n",
    "Test Train Split for Calculating accuracy on a Held Out Test Dataset.\n",
    "'''\n",
    "X_train, X_test, y_train, y_test = train_test_split(X.T, y, test_size=1/3, random_state=42)"
   ]
  },
  {
   "cell_type": "code",
   "execution_count": 289,
   "metadata": {},
   "outputs": [],
   "source": [
    "#We need to change -1 to 0 before fitting logistic regression.\n",
    "\n",
    "def converter(inp):\n",
    "    if inp > 0:\n",
    "        return 1\n",
    "    else:\n",
    "        return 0\n",
    "\n",
    "X_train = torch.tensor(X_train, dtype=torch.float32)\n",
    "X_test = torch.tensor(X_test, dtype=torch.float32)\n",
    "y_train = torch.tensor([converter(val) for val in y_train], dtype=torch.float32)\n",
    "y_test  = torch.tensor([converter(val) for val in y_test], dtype=torch.float32)"
   ]
  },
  {
   "cell_type": "code",
   "execution_count": 290,
   "metadata": {},
   "outputs": [],
   "source": [
    "class LinearRegression(nn.Module):\n",
    "    def __init__(self, input_size, output_size):\n",
    "        super(LinearRegression, self).__init__()\n",
    "        self.linear = nn.Linear(input_size, output_size)\n",
    "\n",
    "    def forward(self, X):\n",
    "        out = self.linear(X)\n",
    "        out = torch.sigmoid(out)\n",
    "        return out\n",
    "\n",
    "class LogisticRegression:\n",
    "    \n",
    "    def __init__(self, lr=0.01, lamb = 10, num_iter=1000, fit_intercept=True):\n",
    "        self.lr = lr\n",
    "        self.lamb = lamb\n",
    "        self.num_iter = num_iter\n",
    "        self.fit_intercept = fit_intercept\n",
    "    \n",
    "    def __add_intercept(self, X):\n",
    "        intercept = torch.ones((X.shape[0], 1))\n",
    "        return torch.concat((intercept, X), axis=1) \n",
    "          \n",
    "    def fit(self, X, y):\n",
    "        if self.fit_intercept:\n",
    "            X = self.__add_intercept(X)\n",
    "\n",
    "        self.model = LinearRegression(784, 1)\n",
    "        optimizer = torch.optim.Adam(self.model.parameters(), lr=self.lr, weight_decay=self.lamb)\n",
    "        criterion = nn.CrossEntropyLoss()\n",
    "\n",
    "        for i in range(self.num_iter):\n",
    "            outputs = self.model(X)\n",
    "            loss = criterion(outputs.T[0], y)\n",
    "\n",
    "            optimizer.zero_grad()\n",
    "            loss.backward()\n",
    "            optimizer.step()\n",
    "        \n",
    "    def predict(self, X, threshold=0.5):\n",
    "        if self.fit_intercept:\n",
    "            X = self.__add_intercept(X)\n",
    "    \n",
    "        outputs = self.model(X)\n",
    "\n",
    "        for i in range(len(outputs)):\n",
    "            if outputs[i] < threshold:\n",
    "                outputs[i] = 0\n",
    "            else:\n",
    "                outputs[i] = 1\n",
    "\n",
    "        return outputs.T[0]\n",
    "\n",
    "\n"
   ]
  },
  {
   "cell_type": "code",
   "execution_count": 291,
   "metadata": {},
   "outputs": [
    {
     "name": "stdout",
     "output_type": "stream",
     "text": [
      "Lambda: 100 Accuary: 94.10% Error: 5.90%\n",
      "Lambda: 10 Accuary: 96.90% Error: 3.10%\n",
      "Lambda: 1 Accuary: 97.10% Error: 2.90%\n",
      "Lambda: 0.1 Accuary: 97.20% Error: 2.80%\n",
      "Lambda: 0.01 Accuary: 97.30% Error: 2.70%\n"
     ]
    }
   ],
   "source": [
    "def model_factory(lamb):\n",
    "    model = LogisticRegression(lr=.001, lamb=lamb, fit_intercept=False) \n",
    "    model.fit(X_train, y_train)\n",
    "    return model\n",
    "\n",
    "def prediction(lamb=.1):\n",
    "    model = model_factory(lamb)\n",
    "\n",
    "    #Generate Predictions\n",
    "    preds = model.predict(X_test) \n",
    "    \n",
    "    # accuracy\n",
    "    accuracy = (preds == y_test).sum().item() / len(y_test)\n",
    "    print(f\"Lambda: {lamb} Accuary: {accuracy:.2%} Error: {1-accuracy:.2%}\")\n",
    "\n",
    "prediction(100)\n",
    "prediction(10)\n",
    "prediction(1)\n",
    "prediction(.1)\n",
    "prediction(.01)\n"
   ]
  },
  {
   "cell_type": "code",
   "execution_count": 292,
   "metadata": {},
   "outputs": [
    {
     "data": {
      "image/png": "[encoded data removed]",
      "text/plain": [
       "<Figure size 720x720 with 20 Axes>"
      ]
     },
     "metadata": {
      "needs_background": "light"
     },
     "output_type": "display_data"
    }
   ],
   "source": [
    "import matplotlib.pyplot as plt\n",
    "\n",
    "\n",
    "def posterior(w, x):\n",
    "    return 1 / (1 + torch.exp(-w[0].T @ x))\n",
    "\n",
    "def confidence(model, X):\n",
    "    weights = model.model.linear.state_dict()['weight']\n",
    "    return posterior(weights, X_test.T)\n",
    "\n",
    "def normalize_conf(conf):\n",
    "    if conf > 0.5:\n",
    "        return 1 - conf\n",
    "    return conf\n",
    "\n",
    "\n",
    "model = model_factory(.1)\n",
    "preds = model.predict(X_test)\n",
    "correct = preds == y_test\n",
    "conf = confidence(model, X_test)\n",
    "\n",
    "incorrect_conf = [\n",
    "    (normalize_conf(conf[i].item()), X_test[i], y_test[i].item()) \n",
    "    for i in range(len(preds)) if not correct[i]\n",
    "]\n",
    "\n",
    "incorrect_conf = sorted(incorrect_conf, key=lambda v: v[0])\n",
    "\n",
    "labels = ['Four', 'Nine']\n",
    "\n",
    "plt.figure(figsize=(10, 10))\n",
    "\n",
    "for i, (_, data, actual) in enumerate(incorrect_conf[0:20]):\n",
    "    plt.subplot(5, 4, i + 1)\n",
    "    plt.imshow(data.reshape(28, 28), cmap=\"gray\")\n",
    "    plt.title(labels[int(actual)])\n",
    "    plt.axis(\"off\")\n",
    "\n",
    "plt.show()\n",
    "    \n",
    "\n"
   ]
  }
 ],
 "metadata": {
  "kernelspec": {
   "display_name": "Python 3.10.0 64-bit",
   "language": "python",
   "name": "python3"
  },
  "language_info": {
   "codemirror_mode": {
    "name": "ipython",
    "version": 3
   },
   "file_extension": ".py",
   "mimetype": "text/x-python",
   "name": "python",
   "nbconvert_exporter": "python",
   "pygments_lexer": "ipython3",
   "version": "3.10.0"
  },
  "vscode": {
   "interpreter": {
    "hash": "d34b9460366b78c854f620c66445fee9afeecf972eedca0a7e75b88f83987c10"
   }
  }
 },
 "nbformat": 4,
 "nbformat_minor": 2
}
