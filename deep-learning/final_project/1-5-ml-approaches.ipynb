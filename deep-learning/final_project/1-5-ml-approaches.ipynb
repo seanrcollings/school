{
 "cells": [
  {
   "cell_type": "code",
   "execution_count": 2,
   "metadata": {},
   "outputs": [],
   "source": [
    "import numpy as np\n",
    "from sklearn import model_selection, preprocessing\n",
    "from sklearn.ensemble import RandomForestClassifier\n",
    "from sklearn.svm import SVC\n",
    "from sklearn.metrics import accuracy_score\n",
    "\n",
    "\n",
    "random_state = 42"
   ]
  },
  {
   "cell_type": "code",
   "execution_count": 3,
   "metadata": {},
   "outputs": [],
   "source": [
    "# Use the same method of loading the data as in previous sub problems\n",
    "\n",
    "input_file = \"Data/features_3_sec.csv\"\n",
    "\n",
    "with open(input_file) as f:\n",
    "    f.readline()\n",
    "    data = np.loadtxt(f, delimiter=',', dtype=np.object_)\n",
    "\n",
    "labels = [\n",
    "    'blues', 'classical', 'country', 'disco', 'hiphop', \n",
    "    'jazz', 'metal', 'pop', 'reggae', 'rock'\n",
    "]\n",
    "\n",
    "X = data[:, 1:-1].astype(np.float32)\n",
    "\n",
    "min_max_scaler = preprocessing.MinMaxScaler((-1, 1))\n",
    "X = min_max_scaler.fit_transform(X)\n",
    "\n",
    "y = [labels.index(l) for l in data[:, -1]]\n",
    "\n",
    "\n",
    "train_X, test_X, train_y, test_y = model_selection.train_test_split(X, y, test_size=0.2, random_state=random_state)"
   ]
  },
  {
   "cell_type": "code",
   "execution_count": 12,
   "metadata": {},
   "outputs": [
    {
     "name": "stdout",
     "output_type": "stream",
     "text": [
      "Fitting 5 folds for each of 1 candidates, totalling 5 fits\n",
      "[CV 1/5] END max_depth=24, max_features=sqrt, min_samples_leaf=1, min_samples_split=2, n_estimators=256;, score=0.862 total time=   7.1s\n",
      "[CV 2/5] END max_depth=24, max_features=sqrt, min_samples_leaf=1, min_samples_split=2, n_estimators=256;, score=0.857 total time=   7.0s\n",
      "[CV 3/5] END max_depth=24, max_features=sqrt, min_samples_leaf=1, min_samples_split=2, n_estimators=256;, score=0.875 total time=   7.1s\n",
      "[CV 4/5] END max_depth=24, max_features=sqrt, min_samples_leaf=1, min_samples_split=2, n_estimators=256;, score=0.860 total time=   7.2s\n",
      "[CV 5/5] END max_depth=24, max_features=sqrt, min_samples_leaf=1, min_samples_split=2, n_estimators=256;, score=0.857 total time=   7.0s\n",
      "Best score: 0.8624\n",
      "Best parameters: {'max_depth': 24, 'max_features': 'sqrt', 'min_samples_leaf': 1, 'min_samples_split': 2, 'n_estimators': 256}\n",
      "Accuracy: 0.8909\n"
     ]
    }
   ],
   "source": [
    "# Grid Search with Random Forest\n",
    "\n",
    "parameter_grid = {\n",
    "    'n_estimators': [256],\n",
    "    'max_depth': [24],\n",
    "    'min_samples_split': [2],\n",
    "    'max_features': ['sqrt'],\n",
    "    'min_samples_leaf': [1],\n",
    "}\n",
    "\n",
    "grid_search = model_selection.GridSearchCV(\n",
    "    RandomForestClassifier(random_state=random_state), \n",
    "    parameter_grid, \n",
    "    cv=5, \n",
    "    verbose=5\n",
    ")\n",
    "\n",
    "grid_search.fit(train_X, train_y)\n",
    "\n",
    "print(f\"Best score: {grid_search.best_score_:.4f}\")\n",
    "print(f\"Best parameters: {grid_search.best_params_}\")\n",
    "\n",
    "test_y_pred = grid_search.predict(test_X)\n",
    "print(f\"Accuracy: {accuracy_score(test_y, test_y_pred):.4f}\")"
   ]
  },
  {
   "attachments": {},
   "cell_type": "markdown",
   "metadata": {},
   "source": [
    "### Random Forest\n",
    "\n",
    "Throwing together an untuned forest classifier against the 3 second features performed very well even to begin with, resulting in an 88% accuracy. Performing a grid search on that essentially told us that none of the parameters resulted in significant improvement - we weren't able to improve the performance beyond 89.09%."
   ]
  },
  {
   "cell_type": "code",
   "execution_count": 17,
   "metadata": {},
   "outputs": [
    {
     "name": "stdout",
     "output_type": "stream",
     "text": [
      "Fitting 5 folds for each of 1 candidates, totalling 5 fits\n",
      "[CV 1/5] END ......C=2.6, gamma=1.0, kernel=rbf;, score=0.922 total time=   1.9s\n",
      "[CV 2/5] END ......C=2.6, gamma=1.0, kernel=rbf;, score=0.936 total time=   1.9s\n",
      "[CV 3/5] END ......C=2.6, gamma=1.0, kernel=rbf;, score=0.917 total time=   1.9s\n",
      "[CV 4/5] END ......C=2.6, gamma=1.0, kernel=rbf;, score=0.919 total time=   1.9s\n",
      "[CV 5/5] END ......C=2.6, gamma=1.0, kernel=rbf;, score=0.932 total time=   1.9s\n",
      "Best score: 0.9250\n",
      "Best parameters: {'C': 2.6, 'gamma': 1.0, 'kernel': 'rbf'}\n",
      "Accuracy: 0.9414\n"
     ]
    }
   ],
   "source": [
    "# Grid search with SVM\n",
    "\n",
    "parameter_grid_svm = {\n",
    "    'C': [2.6],\n",
    "    'gamma': [1.0],\n",
    "    'kernel': ['rbf'],\n",
    "}\n",
    "\n",
    "grid_search_svm = model_selection.GridSearchCV(\n",
    "    SVC(random_state=random_state),\n",
    "    parameter_grid_svm,\n",
    "    cv=5,\n",
    "    verbose=5\n",
    ")\n",
    "\n",
    "grid_search_svm.fit(train_X, train_y)\n",
    "\n",
    "print(f\"Best score: {grid_search_svm.best_score_:.4f}\")\n",
    "print(f\"Best parameters: {grid_search_svm.best_params_}\")\n",
    "\n",
    "test_y_pred = grid_search_svm.predict(test_X)\n",
    "print(f\"Accuracy: {accuracy_score(test_y, test_y_pred):.4f}\")"
   ]
  },
  {
   "attachments": {},
   "cell_type": "markdown",
   "metadata": {},
   "source": [
    "### SVM\n",
    "\n",
    "While the first attempt at SVM didn't go quite as well as the first attempt as Random Forest, it still gave us a very respectable 73% accuracy. A grid search for the C and gamma hyperparameters and swapping the kernel to rbf got that up to 94.14%."
   ]
  }
 ],
 "metadata": {
  "kernelspec": {
   "display_name": "Python 3.10.8 64-bit",
   "language": "python",
   "name": "python3"
  },
  "language_info": {
   "codemirror_mode": {
    "name": "ipython",
    "version": 3
   },
   "file_extension": ".py",
   "mimetype": "text/x-python",
   "name": "python",
   "nbconvert_exporter": "python",
   "pygments_lexer": "ipython3",
   "version": "3.10.8 (main, Nov  1 2022, 14:18:21) [GCC 12.2.0]"
  },
  "orig_nbformat": 4,
  "vscode": {
   "interpreter": {
    "hash": "e7370f93d1d0cde622a1f8e1c04877d8463912d04d973331ad4851f04de6915a"
   }
  }
 },
 "nbformat": 4,
 "nbformat_minor": 2
}
