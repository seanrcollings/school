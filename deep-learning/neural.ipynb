{
 "cells": [
  {
   "cell_type": "code",
   "execution_count": 21,
   "metadata": {},
   "outputs": [
    {
     "name": "stdout",
     "output_type": "stream",
     "text": [
      "0, 0 = 0\n",
      "0, 1 = 1\n",
      "0, 0 = 0\n",
      "0, 1 = 1\n",
      "1, 1 = 1\n",
      "0, 1 = 1\n",
      "0, 1 = 1\n",
      "0, 1 = 1\n",
      "0.4013, 0.3775 = 0.5693\n",
      "0.2689, 0.5744 = 0.5850\n",
      "0.2891, 0.4750 = 0.5656\n",
      "0.1824, 0.6682 = 0.5868\n",
      "0.5498, 0.5498 = 0.6456\n",
      "0.4013, 0.7311 = 0.6530\n",
      "0.4256, 0.6457 = 0.6390\n",
      "0.2891, 0.8022 = 0.6436\n"
     ]
    }
   ],
   "source": [
    "import itertools\n",
    "import numpy as np\n",
    "\n",
    "class Neuron:\n",
    "    def __init__(self, weights, bias):\n",
    "        self.weights = weights\n",
    "        self.bias = bias\n",
    "\n",
    "class PerceptronNeuron(Neuron):\n",
    "    def __call__(self, x):\n",
    "        z = np.dot(self.weights, x) + self.bias\n",
    "        return int(z > 0)\n",
    "\n",
    "class SigmoidNeuron(Neuron):\n",
    "    def __call__(self, x):\n",
    "        z = np.dot(self.weights, x) + self.bias\n",
    "        return 1 / (1 + np.exp(-z))\n",
    "\n",
    "            \n",
    "\n",
    "np1 = PerceptronNeuron(np.array([0.6, -0.5, -0.6]), -0.4)\n",
    "np2 = PerceptronNeuron(np.array([0.7, 0.4, 0.8]), -0.5)\n",
    "np3 = PerceptronNeuron(np.array([1,1]), -0.5)\n",
    "\n",
    "ns1 = SigmoidNeuron(np.array([0.6, -0.5, -0.6]), -0.4)\n",
    "ns2 = SigmoidNeuron(np.array([0.7, 0.4, 0.8]), -0.5)\n",
    "ns3 = SigmoidNeuron(np.array([1,1]), -0.5)\n",
    "\n",
    "X = [\n",
    "    np.array([0,0,0]),\n",
    "    np.array([0,0,1]),\n",
    "    np.array([0,1,0]),\n",
    "    np.array([0,1,1]),\n",
    "    np.array([1,0,0]),\n",
    "    np.array([1,0,1]),\n",
    "    np.array([1,1,0]),\n",
    "    np.array([1,1,1]),\n",
    "]\n",
    "\n",
    "for x in X:\n",
    "    h1, h2 = np1(x), np2(x)\n",
    "    print(f\"{h1}, {h2} = {np3(np.array([h1, h2]))}\")\n",
    "\n",
    "for x in X:\n",
    "    h1, h2 = ns1(x), ns2(x)\n",
    "    print(f\"{h1:.4f}, {h2:.4f} = {ns3(np.array([h1, h2])):.4f}\")\n"
   ]
  }
 ],
 "metadata": {
  "kernelspec": {
   "display_name": "Python 3.10.0 64-bit",
   "language": "python",
   "name": "python3"
  },
  "language_info": {
   "codemirror_mode": {
    "name": "ipython",
    "version": 3
   },
   "file_extension": ".py",
   "mimetype": "text/x-python",
   "name": "python",
   "nbconvert_exporter": "python",
   "pygments_lexer": "ipython3",
   "version": "3.10.0"
  },
  "orig_nbformat": 4,
  "vscode": {
   "interpreter": {
    "hash": "d34b9460366b78c854f620c66445fee9afeecf972eedca0a7e75b88f83987c10"
   }
  }
 },
 "nbformat": 4,
 "nbformat_minor": 2
}
